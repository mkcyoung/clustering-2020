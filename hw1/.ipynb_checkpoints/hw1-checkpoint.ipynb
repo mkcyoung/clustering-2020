{
 "cells": [
  {
   "cell_type": "markdown",
   "metadata": {},
   "source": [
    "# Assignment 1: K-Center, K-Means, and HAC\n",
    "## CS 6180: Clustering\n",
    "## Michael Young / u0742759\n",
    "\n",
    "### Problem 1\n",
    "\n",
    "Implement the K-Center (aka FurthestPoint) algorithm using euclidean distance as the distance function. Using your K-Center implementation, evaluate data1.csv with 3 centers and then try with 4 centers. Next assign each point to its nearest center (using euclidean distance as the distance function) and generate a scatter plot where each cluster is represented by a different color. Also, represent the cluster centers as solid black.  \n",
    "\n",
    "Using this same data set run K-Means using 3 centers and produce similar plots as described previously. Compare and contrast the results with K-Centers, what are the differences you are seeing. Feel free to use an out-of-the-box K-Means (eg. sklearn.cluster.KMeans). Finally produce two cost function plots with # centers along the x-axis and cost of that clustering along the y-axis. Do this for both algorithms (K-Center and K-Means).  \n",
    "\n"
   ]
  },
  {
   "cell_type": "code",
   "execution_count": 9,
   "metadata": {},
   "outputs": [
    {
     "name": "stdout",
     "output_type": "stream",
     "text": [
      "[[ 0.00000000e+00  7.41676658e+00  8.24678858e+00  1.00000000e+00]\n",
      " [ 1.00000000e+00  2.21450825e+00  1.29828096e+01  1.00000000e+00]\n",
      " [ 2.00000000e+00  1.09242264e+01  6.34801951e+00  1.00000000e+00]\n",
      " ...\n",
      " [ 5.97000000e+02  4.47583144e-01 -9.06053065e+00  3.00000000e+00]\n",
      " [ 5.98000000e+02  3.86501491e+00  5.68675885e+00  1.00000000e+00]\n",
      " [ 5.99000000e+02  6.99339878e+00  4.37396330e+00  1.00000000e+00]]\n"
     ]
    },
    {
     "data": {
      "image/png": "[encoded data removed]",
      "text/plain": [
       "<Figure size 432x288 with 1 Axes>"
      ]
     },
     "metadata": {
      "needs_background": "light"
     },
     "output_type": "display_data"
    }
   ],
   "source": [
    "import numpy as np\n",
    "import matplotlib.pyplot as plt\n",
    "\n",
    "%matplotlib inline\n",
    "\n",
    "# Load the Data\n",
    "f = np.loadtxt(open(\"data1.csv\", \"rb\"), delimiter=\",\", skiprows=1)\n",
    "\n",
    "print(f)\n",
    "# Plotting data to see if any kind of obvious clustering\n",
    "x = f[:,1]\n",
    "y = f[:,2]\n",
    "\n",
    "plt.plot(x,y,'or')\n",
    "plt.show()"
   ]
  },
  {
   "cell_type": "code",
   "execution_count": 140,
   "metadata": {},
   "outputs": [],
   "source": [
    "# K-center (aka furthest point)\n",
    "\n",
    "# First step, lets compute pairwise L2 distance between\n",
    "# every point and store in a matrix where indices correspond to cluster point\n",
    "\n",
    "dim = len(f[:])\n",
    "dists = np.zeros((dim,dim))\n",
    "\n",
    "# At some point try to develop vectorized implementation\n",
    "for i in f:\n",
    "    for j in f:\n",
    "        dists[int(i[0]),int(j[0])] = np.sqrt((i[1] - j[1])**2 + (i[2]-j[2])**2)\n",
    "\n",
    "#print(dists[1][0])\n"
   ]
  },
  {
   "cell_type": "code",
   "execution_count": 207,
   "metadata": {},
   "outputs": [
    {
     "name": "stdout",
     "output_type": "stream",
     "text": [
      "[520, 9, 99, 491]\n"
     ]
    }
   ],
   "source": [
    "# K-center continued\n",
    "\n",
    "# Choose k\n",
    "k = 4\n",
    "\n",
    "# Dict of clusters\n",
    "clusters = {}\n",
    "# List of centers\n",
    "C = []\n",
    "\n",
    "# Pick an arbitrary point and assign it as first center c1\n",
    "# I'll make this random for the h*ll of it\n",
    "rando = np.random.randint(0,600)\n",
    "clusters[rando] = {rando}\n",
    "C.append(rando)\n",
    "#print(C)\n",
    "\n",
    "# Let's assign every point to this first cluster\n",
    "for i in range(dim):\n",
    "    clusters[rando].add(i)\n",
    "\n",
    "#print(clusters)\n",
    "# Gonzalez algo\n",
    "for i in range(1,k):\n",
    "    max_dists = []\n",
    "    #print(i)\n",
    "    # For each center thus far, find the max distance away from these centers, assign new\n",
    "    # center to the largest of these\n",
    "    for cent in C:\n",
    "        # Compute distance between every point in a cluster and its nearest center\n",
    "        my_dists = [dists[j,cent] for j in clusters[cent]]\n",
    "        #print(my_dists)\n",
    "        # Return max values along with its index\n",
    "        max_dists.append((max(my_dists),np.argmax(my_dists)))\n",
    "    #print(max_dists)\n",
    "    \n",
    "    # Assign new center\n",
    "    new_center = max(max_dists, key = lambda x: x[0])[1]\n",
    "    C.append(new_center)\n",
    "    clusters[new_center] = {new_center}\n",
    "    #print(C)\n",
    "    \n",
    "    # Reassign points to their closest center\n",
    "    new_clusters = []\n",
    "    for x in f:\n",
    "        x_dists = []\n",
    "        for cent in C:\n",
    "            # loops through points distances to every center and stores them along with center\n",
    "            x_dists.append((dists[int(x[0])][cent],cent))\n",
    "        # finds which center the point is closest to \n",
    "        x_new_c = min(x_dists)[1]\n",
    "        #print(x_new_c)\n",
    "        \n",
    "        # Now I need to assign point to new cluster and remove from the old\n",
    "        # I'm not feeling particularly clever rn, so I'll just loop through clusters\n",
    "        # And remove current point, then add it to right cluster\n",
    "        \n",
    "        for clust in clusters:\n",
    "            #print(clusters[clust])\n",
    "            # remove point from all clusters\n",
    "            if int(x[0]) in clusters[clust]:\n",
    "                clusters[clust].remove(int(x[0]))\n",
    "            # add it back to correct cluster\n",
    "            clusters[x_new_c].add(int(x[0]))\n",
    "            \n",
    "print(C)\n",
    "#print(clusters)"
   ]
  },
  {
   "cell_type": "code",
   "execution_count": 206,
   "metadata": {},
   "outputs": [
    {
     "data": {
      "image/png": "[encoded data removed]",
      "text/plain": [
       "<Figure size 432x288 with 1 Axes>"
      ]
     },
     "metadata": {
      "needs_background": "light"
     },
     "output_type": "display_data"
    }
   ],
   "source": [
    "# Now for plotting when k = 3 \n",
    "\n",
    "# Now I convert from points back to my original point values\n",
    "m = {}\n",
    "for idx,l in enumerate(list(clusters.values())):\n",
    "    #print(idx,l)\n",
    "    m[idx] = np.array([f[i,:] for i in l])\n",
    "#print(m)\n",
    "plt.plot(m[0][:,1],m[0][:,2],'or')\n",
    "plt.plot(m[1][:,1],m[1][:,2],'ob')\n",
    "plt.plot(m[2][:,1],m[2][:,2],'oy')\n",
    "\n",
    "# Need to make centers black\n",
    "plt.plot(f[C[0],1],f[C[0],2],'ok')\n",
    "plt.plot(f[C[1],1],f[C[1],2],'ok')\n",
    "plt.plot(f[C[2],1],f[C[2],2],'ok')\n",
    "\n",
    "#plt.plot(C[3][:,1],C[3][:,2],'oc')\n",
    "plt.title(\"k-center ({})\".format(k))\n",
    "plt.show()"
   ]
  },
  {
   "cell_type": "code",
   "execution_count": 208,
   "metadata": {},
   "outputs": [
    {
     "data": {
      "image/png": "[encoded data removed]",
      "text/plain": [
       "<Figure size 432x288 with 1 Axes>"
      ]
     },
     "metadata": {
      "needs_background": "light"
     },
     "output_type": "display_data"
    }
   ],
   "source": [
    "# Now for plotting when k = 4 \n",
    "\n",
    "# Now I convert from points back to my original point values\n",
    "m = {}\n",
    "for idx,l in enumerate(list(clusters.values())):\n",
    "    #print(idx,l)\n",
    "    m[idx] = np.array([f[i,:] for i in l])\n",
    "#print(m)\n",
    "plt.plot(m[0][:,1],m[0][:,2],'or')\n",
    "plt.plot(m[1][:,1],m[1][:,2],'ob')\n",
    "plt.plot(m[2][:,1],m[2][:,2],'oy')\n",
    "plt.plot(m[3][:,1],m[3][:,2],'oc')\n",
    "\n",
    "# Need to make centers black\n",
    "plt.plot(f[C[0],1],f[C[0],2],'ok')\n",
    "plt.plot(f[C[1],1],f[C[1],2],'ok')\n",
    "plt.plot(f[C[2],1],f[C[2],2],'ok')\n",
    "plt.plot(f[C[3],1],f[C[3],2],'ok')\n",
    "\n",
    "#plt.plot(C[3][:,1],C[3][:,2],'oc')\n",
    "plt.title(\"k-center ({})\".format(k))\n",
    "plt.show()"
   ]
  },
  {
   "cell_type": "code",
   "execution_count": null,
   "metadata": {},
   "outputs": [],
   "source": []
  }
 ],
 "metadata": {
  "kernelspec": {
   "display_name": "Python 3",
   "language": "python",
   "name": "python3"
  },
  "language_info": {
   "codemirror_mode": {
    "name": "ipython",
    "version": 3
   },
   "file_extension": ".py",
   "mimetype": "text/x-python",
   "name": "python",
   "nbconvert_exporter": "python",
   "pygments_lexer": "ipython3",
   "version": "3.7.4"
  }
 },
 "nbformat": 4,
 "nbformat_minor": 2
}
